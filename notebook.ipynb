{
 "cells": [
  {
   "metadata": {},
   "cell_type": "code",
   "source": [
    "from sklearn.ensemble import RandomForestClassifier\n",
    "from sklearn.tree import DecisionTreeClassifier\n",
    "import pandas as pd\n",
    "import utils"
   ],
   "id": "42f982fa8819ac3e",
   "outputs": [],
   "execution_count": null
  },
  {
   "metadata": {},
   "cell_type": "code",
   "source": [
    "df = utils.pre_process_df()\n",
    "df"
   ],
   "id": "a07188be97bffdc7",
   "outputs": [],
   "execution_count": null
  },
  {
   "metadata": {},
   "cell_type": "code",
   "source": [
    "# Check column types\n",
    "non_numeric_columns = []\n",
    "cols_w_missing_values = []\n",
    "\n",
    "for col in df.columns:\n",
    "    if not pd.api.types.is_integer_dtype(df[col]):\n",
    "        non_numeric_columns.append((col, df[col].dtype))\n",
    "    if df[col].isnull().sum() > 0:\n",
    "        cols_w_missing_values.append(col)\n",
    "\n",
    "# Print result\n",
    "if len(non_numeric_columns) == 0:\n",
    "    print(\"All columns are int or float.\\n\")\n",
    "else:\n",
    "    print(\"There are columns that are not int:\")\n",
    "    for col, dtype in non_numeric_columns:\n",
    "        print(f\"Column: {col}, Type: {dtype}\")\n",
    "        \n",
    "        \n",
    "if len(cols_w_missing_values) == 0:\n",
    "    print(\"No columns have missing values.\")\n",
    "else:\n",
    "    print(\"Columns with missing values:\")\n",
    "    for col in cols_w_missing_values:\n",
    "        print(f\"Column: {col}\")"
   ],
   "id": "e032e9d754a6f0a8",
   "outputs": [],
   "execution_count": null
  },
  {
   "metadata": {},
   "cell_type": "code",
   "source": "utils.visualize_correlation(df)",
   "id": "ee3cd603d834a07c",
   "outputs": [],
   "execution_count": null
  },
  {
   "metadata": {},
   "cell_type": "code",
   "source": [
    "# Verify class imbalance of the Target\n",
    "\n",
    "utils.visualize_class_imbalance(df)"
   ],
   "id": "a3b6d3b1988139aa",
   "outputs": [],
   "execution_count": null
  },
  {
   "metadata": {},
   "cell_type": "markdown",
   "source": "As we see there is an imbalance in the classes. We will SMOTE to balance the classes.",
   "id": "b42263973f1cdf3"
  },
  {
   "metadata": {},
   "cell_type": "code",
   "source": "utils.visualize_feature_distributions(df)",
   "id": "cf43b734c924c45c",
   "outputs": [],
   "execution_count": null
  },
  {
   "metadata": {},
   "cell_type": "code",
   "source": [
    "## DECISION TREE\n",
    "\n",
    "tree = DecisionTreeClassifier(random_state=42)\n",
    "\n",
    "accuracy = utils.holdout_accuracy(df, tree, test_size=0.2)\n",
    "cv_score = utils.cross_validation_acc(df, tree, cv_fold=10)\n",
    "\n",
    "print(f\"Holdout Accuracy: {accuracy}%\\nCross-Validation Accuracy: {cv_score}%\")"
   ],
   "id": "2c6acb23e1ad5f18",
   "outputs": [],
   "execution_count": null
  },
  {
   "metadata": {},
   "cell_type": "code",
   "source": "utils.analyze_tree_complexity(tree, df)",
   "id": "82cfc20bdc78a1a",
   "outputs": [],
   "execution_count": null
  },
  {
   "metadata": {},
   "cell_type": "code",
   "source": [
    "### RANDOM FOREST\n",
    "\n",
    "forest = RandomForestClassifier(random_state=42)\n",
    "\n",
    "accuracy = utils.holdout_accuracy(df, tree, test_size=0.2)\n",
    "cv_score = utils.cross_validation_acc(df, tree, cv_fold=10)\n",
    "\n",
    "print(f\"Holdout Accuracy: {accuracy}%\\nCross-Validation Accuracy: {cv_score}%\")"
   ],
   "id": "1799a7dcb4900447",
   "outputs": [],
   "execution_count": null
  },
  {
   "metadata": {},
   "cell_type": "code",
   "source": "utils.apply_simplification_based_xai(forest,df)",
   "id": "107cf245f30f1c90",
   "outputs": [],
   "execution_count": null
  },
  {
   "metadata": {
    "jupyter": {
     "is_executing": true
    }
   },
   "cell_type": "code",
   "source": "utils.apply_feature_based_xai(forest,df)",
   "id": "7f58c3e6c48274af",
   "outputs": [],
   "execution_count": null
  },
  {
   "metadata": {},
   "cell_type": "code",
   "source": "utils.apply_simplification_based_xai(forest,df)",
   "id": "1a31bca07656967f",
   "outputs": [],
   "execution_count": null
  },
  {
   "metadata": {},
   "cell_type": "code",
   "source": "",
   "id": "edf1b823008f0c3d",
   "outputs": [],
   "execution_count": null
  }
 ],
 "metadata": {
  "kernelspec": {
   "display_name": "Python 3",
   "language": "python",
   "name": "python3"
  },
  "language_info": {
   "codemirror_mode": {
    "name": "ipython",
    "version": 2
   },
   "file_extension": ".py",
   "mimetype": "text/x-python",
   "name": "python",
   "nbconvert_exporter": "python",
   "pygments_lexer": "ipython2",
   "version": "2.7.6"
  }
 },
 "nbformat": 4,
 "nbformat_minor": 5
}
