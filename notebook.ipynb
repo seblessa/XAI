{
 "cells": [
  {
   "cell_type": "markdown",
   "id": "3870ddee89052a08",
   "metadata": {},
   "source": [
    "# Explainable Artificial Intelligence (XAI)\n",
    "\n",
    "<br>\n",
    "\n",
    "We will be using the dataset [Airline Passenger Satisfaction](https://www.kaggle.com/datasets/nilanjansamanta1210/airline-passenger-satisfaction) from Kaggle. The dataset contains information about passengers' satisfaction with the airline service. The goal is to predict whether a passenger is satisfied or not based on the features provided. "
   ]
  },
  {
   "cell_type": "markdown",
   "id": "7a66e48083f607d4",
   "metadata": {},
   "source": [
    "## Data Loading and Preprocessing"
   ]
  },
  {
   "cell_type": "code",
   "execution_count": null,
   "id": "42f982fa8819ac3e",
   "metadata": {},
   "outputs": [],
   "source": [
    "from sklearn.ensemble import RandomForestClassifier\n",
    "from sklearn.tree import DecisionTreeClassifier\n",
    "import pandas as pd\n",
    "import kagglehub\n",
    "import utils\n",
    "import os"
   ]
  },
  {
   "cell_type": "code",
   "execution_count": null,
   "id": "5067d25e",
   "metadata": {},
   "outputs": [],
   "source": [
    "dataset_path = \"data/airline_passenger_satisfaction.csv\"\n",
    "\n",
    "if not os.path.exists(dataset_path):\n",
    "        print(\"Downloading dataset...\")\n",
    "        path = kagglehub.dataset_download(\"nilanjansamanta1210/airline-passenger-satisfaction\")\n",
    "        downloaded_file = os.path.join(path, \"airline_passenger_satisfaction.csv\")\n",
    "        if os.path.exists(downloaded_file):\n",
    "            os.rename(downloaded_file, dataset_path)\n",
    "        else:\n",
    "            raise FileNotFoundError(\"The dataset was not downloaded properly. Please check the Kaggle dataset.\")\n",
    "\n",
    "df = pd.read_csv(dataset_path)\n",
    "df"
   ]
  },
  {
   "cell_type": "code",
   "execution_count": null,
   "id": "a07188be97bffdc7",
   "metadata": {},
   "outputs": [],
   "source": [
    "df = utils.pre_process_df(df, drop_correlated=False)\n",
    "df"
   ]
  },
  {
   "cell_type": "code",
   "execution_count": null,
   "id": "e032e9d754a6f0a8",
   "metadata": {},
   "outputs": [],
   "source": [
    "# Check column types\n",
    "non_numeric_columns = []\n",
    "cols_w_missing_values = []\n",
    "\n",
    "for col in df.columns:\n",
    "    if not pd.api.types.is_integer_dtype(df[col]):\n",
    "        non_numeric_columns.append((col, df[col].dtype))\n",
    "    if df[col].isnull().sum() > 0:\n",
    "        cols_w_missing_values.append(col)\n",
    "\n",
    "# Print result\n",
    "if len(non_numeric_columns) == 0:\n",
    "    print(\"All columns are int or float.\\n\")\n",
    "else:\n",
    "    print(\"There are columns that are not int:\")\n",
    "    for col, dtype in non_numeric_columns:\n",
    "        print(f\"Column: {col}, Type: {dtype}\")\n",
    "        \n",
    "        \n",
    "if len(cols_w_missing_values) == 0:\n",
    "    print(\"No columns have missing values.\")\n",
    "else:\n",
    "    print(\"Columns with missing values:\")\n",
    "    for col in cols_w_missing_values:\n",
    "        print(f\"Column: {col}\")"
   ]
  },
  {
   "cell_type": "markdown",
   "id": "d60b68543dc6233f",
   "metadata": {},
   "source": [
    "## Data Analysis\n",
    "\n",
    "We will analyze the data to understand the relationships between the features and the target variable. We will also check for class imbalance and feature distributions.\n",
    "\n",
    "<br>\n",
    "\n",
    "### Correlation Analysis"
   ]
  },
  {
   "cell_type": "code",
   "execution_count": null,
   "id": "ee3cd603d834a07c",
   "metadata": {},
   "outputs": [],
   "source": [
    "utils.visualize_correlation(df)"
   ]
  },
  {
   "cell_type": "markdown",
   "id": "e8d747a2",
   "metadata": {},
   "source": [
    "Accuracy of the model **without removing** highly correlated features:\n",
    "- Holdout Accuracy: 94.664%\n",
    "- Cross-Validation Accuracy: 94.642%\n",
    "\n",
    "Join of Departure and Arrival Delay\n",
    "- Holdout Accuracy: 94.649%\n",
    "- Cross-Validation Accuracy: 94.675%\n",
    "\n",
    "<br>\n",
    "\n",
    "Accuracy of the model **removing** highly correlated features:\n",
    "\n",
    "- Holdout Accuracy: 94.256%\n",
    "- Cross-Validation Accuracy: 94.25%\n",
    "\n",
    "Join of Departure and Arrival Delay\n",
    "- Holdout Accuracy: 94.387%\n",
    "- Cross-Validation Accuracy: 94.171%\n"
   ]
  },
  {
   "cell_type": "markdown",
   "id": "47f8b5da",
   "metadata": {},
   "source": [
    "A remoção de informações correlacionadas pode ter prejudicado o modelo, eliminando dados importantes, mesmo que redundantes. Isso sugere que, neste caso, a redundância nas features era benéfica.\n",
    "\n",
    "A junção das duas features como Total Delay não causou um impacto significativo no desempenho geral, mas ajudou a simplificar o modelo sem sacrificar a performance."
   ]
  },
  {
   "cell_type": "markdown",
   "id": "7764fe30fc1a7b99",
   "metadata": {},
   "source": [
    "### Class Imbalance"
   ]
  },
  {
   "cell_type": "code",
   "execution_count": null,
   "id": "a3b6d3b1988139aa",
   "metadata": {},
   "outputs": [],
   "source": [
    "# Verify class imbalance of the Target\n",
    "\n",
    "utils.visualize_class_imbalance(df)"
   ]
  },
  {
   "cell_type": "markdown",
   "id": "b42263973f1cdf3",
   "metadata": {},
   "source": [
    "As we see there is an imbalance in the classes. We will SMOTE to balance the classes."
   ]
  },
  {
   "cell_type": "markdown",
   "id": "9ea1dd62b758b6c1",
   "metadata": {},
   "source": [
    "### Feature distribution"
   ]
  },
  {
   "cell_type": "code",
   "execution_count": null,
   "id": "cf43b734c924c45c",
   "metadata": {},
   "outputs": [],
   "source": [
    "utils.visualize_feature_distributions(df)"
   ]
  },
  {
   "cell_type": "markdown",
   "id": "e63e4acabb5826f3",
   "metadata": {},
   "source": [
    "## Simple Classifications\n",
    "\n",
    "We will start by using a glass box and a black box model to classify the data. We chose a Decision Tree and a Random Forest as the models, respectively. We will analyze the performance of the models and then apply XAI techniques to explain the predictions."
   ]
  },
  {
   "cell_type": "code",
   "execution_count": null,
   "id": "7f1961a24dcab49d",
   "metadata": {},
   "outputs": [],
   "source": [
    "X = df.drop(columns=[\"Satisfaction\"])\n",
    "y = df[\"Satisfaction\"]"
   ]
  },
  {
   "cell_type": "markdown",
   "id": "a63478307c6f5252",
   "metadata": {},
   "source": [
    "\n",
    "### Decision Tree\n",
    "\n",
    "The decision tree is a glass box model that is easy to interpret. We will use it to classify the data and then apply XAI techniques to explain the predictions."
   ]
  },
  {
   "cell_type": "code",
   "execution_count": null,
   "id": "7f25cc7e8df6526b",
   "metadata": {},
   "outputs": [],
   "source": [
    "tree = DecisionTreeClassifier(random_state=42)\n",
    "\n",
    "accuracy = utils.holdout_accuracy(X,y, tree, test_size=0.2)\n",
    "cv_score = utils.cross_validation_acc(X,y, tree, cv_fold=10)\n",
    "\n",
    "print(f\"Holdout Accuracy: {accuracy}%\\nCross-Validation Accuracy: {cv_score}%\")"
   ]
  },
  {
   "cell_type": "code",
   "execution_count": null,
   "id": "82cfc20bdc78a1a",
   "metadata": {},
   "outputs": [],
   "source": [
    "utils.analyze_tree_complexity(feature_names=X.columns.tolist(),tree=tree)"
   ]
  },
  {
   "cell_type": "markdown",
   "id": "40caf0deafcef3a1",
   "metadata": {},
   "source": [
    "### Random Forest\n",
    "\n",
    "The random forest is a black box model that is more complex than the decision tree. Like with the decision tree, we will classify the data and then apply XAI techniques to explain the predictions."
   ]
  },
  {
   "cell_type": "code",
   "execution_count": null,
   "id": "1799a7dcb4900447",
   "metadata": {},
   "outputs": [],
   "source": [
    "forest = RandomForestClassifier(random_state=42)\n",
    "\n",
    "accuracy = utils.holdout_accuracy(X,y, tree, test_size=0.2)\n",
    "cv_score = utils.cross_validation_acc(X,y, tree, cv_fold=10)\n",
    "\n",
    "print(f\"Holdout Accuracy: {accuracy}%\\nCross-Validation Accuracy: {cv_score}%\")"
   ]
  },
  {
   "cell_type": "markdown",
   "id": "ef463788",
   "metadata": {},
   "source": [
    "### **Task 3.1: One simplification-based technique**\n",
    "**Surrogate models-** A ideia é treinar um modelo interpretável mais simples (como uma árvore de decisão ou regressão linear) para aproximar as decisões de um modelo complexo. Os modelos surrogates ajudam a entender como o modelo original toma suas decisões sem a necessidade de entender todo o seu comportamento interno.\n",
    "\n",
    "**Rule Extraction-** A ideia é extrair um conjunto de regras a partir do modelo complexo, como uma Random Forest, para torná-lo mais interpretável."
   ]
  },
  {
   "cell_type": "code",
   "execution_count": null,
   "id": "107cf245f30f1c90",
   "metadata": {},
   "outputs": [],
   "source": [
    "utils.apply_surrogate_models_xai(X,y,forest)"
   ]
  },
  {
   "cell_type": "code",
   "execution_count": null,
   "id": "8aee79d9",
   "metadata": {},
   "outputs": [],
   "source": [
    "feature_summary, pruned_rules_df = utils.apply_rule_extraction_xai(forest,df)"
   ]
  },
  {
   "cell_type": "code",
   "execution_count": null,
   "id": "43b7cad6",
   "metadata": {},
   "outputs": [],
   "source": [
    "utils.plot_feature_importance_from_rules(feature_summary)"
   ]
  },
  {
   "cell_type": "code",
   "execution_count": null,
   "id": "cfdb10a5",
   "metadata": {},
   "outputs": [],
   "source": [
    "# utils.evaluate_rule_extraction_accuracy(pruned_rules_df,df)"
   ]
  },
  {
   "cell_type": "markdown",
   "id": "5ca9c1ee",
   "metadata": {},
   "source": [
    "### **Task 3.2: Feature-based techniques**"
   ]
  },
  {
   "cell_type": "code",
   "execution_count": null,
   "id": "7f58c3e6c48274af",
   "metadata": {},
   "outputs": [],
   "source": [
    "utils.apply_feature_based_xai(X,y,forest)"
   ]
  },
  {
   "cell_type": "code",
   "execution_count": null,
   "id": "1a31bca07656967f",
   "metadata": {},
   "outputs": [],
   "source": [
    "utils.apply_simplification_based_xai(X,y,forest)"
   ]
  },
  {
   "cell_type": "code",
   "execution_count": null,
   "id": "edf1b823008f0c3d",
   "metadata": {},
   "outputs": [],
   "source": []
  }
 ],
 "metadata": {
  "kernelspec": {
   "display_name": "xai",
   "language": "python",
   "name": "python3"
  },
  "language_info": {
   "codemirror_mode": {
    "name": "ipython",
    "version": 3
   },
   "file_extension": ".py",
   "mimetype": "text/x-python",
   "name": "python",
   "nbconvert_exporter": "python",
   "pygments_lexer": "ipython3",
   "version": "3.12.7"
  }
 },
 "nbformat": 4,
 "nbformat_minor": 5
}
