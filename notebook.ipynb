{
 "cells": [
  {
   "metadata": {},
   "cell_type": "markdown",
   "source": [
    "# Explainable Artificial Intelligence (XAI)\n",
    "\n",
    "<br>\n",
    "\n",
    "We will be using the dataset [Airline Passenger Satisfaction](https://www.kaggle.com/datasets/nilanjansamanta1210/airline-passenger-satisfaction) from Kaggle. The dataset contains information about passengers' satisfaction with the airline service. The goal is to predict whether a passenger is satisfied or not based on the features provided. "
   ],
   "id": "3870ddee89052a08"
  },
  {
   "metadata": {},
   "cell_type": "markdown",
   "source": "## Data Loading and Preprocessing",
   "id": "7a66e48083f607d4"
  },
  {
   "cell_type": "code",
   "id": "42f982fa8819ac3e",
   "metadata": {},
   "source": [
    "from sklearn.ensemble import RandomForestClassifier\n",
    "from sklearn.tree import DecisionTreeClassifier\n",
    "import pandas as pd\n",
    "import kagglehub\n",
    "import utils\n",
    "import os"
   ],
   "outputs": [],
   "execution_count": null
  },
  {
   "cell_type": "code",
   "id": "5067d25e",
   "metadata": {},
   "source": [
    "dataset_path = \"data/airline_passenger_satisfaction.csv\"\n",
    "\n",
    "if not os.path.exists(dataset_path):\n",
    "        print(\"Downloading dataset...\")\n",
    "        path = kagglehub.dataset_download(\"nilanjansamanta1210/airline-passenger-satisfaction\")\n",
    "        downloaded_file = os.path.join(path, \"airline_passenger_satisfaction.csv\")\n",
    "        if os.path.exists(downloaded_file):\n",
    "            os.rename(downloaded_file, dataset_path)\n",
    "        else:\n",
    "            raise FileNotFoundError(\"The dataset was not downloaded properly. Please check the Kaggle dataset.\")\n",
    "\n",
    "df = pd.read_csv(dataset_path)\n",
    "df"
   ],
   "outputs": [],
   "execution_count": null
  },
  {
   "cell_type": "code",
   "id": "a07188be97bffdc7",
   "metadata": {},
   "source": [
    "df = utils.pre_process_df(df, drop_correlated=False)\n",
    "df"
   ],
   "outputs": [],
   "execution_count": null
  },
  {
   "cell_type": "code",
   "id": "e032e9d754a6f0a8",
   "metadata": {},
   "source": [
    "# Check column types\n",
    "non_numeric_columns = []\n",
    "cols_w_missing_values = []\n",
    "\n",
    "for col in df.columns:\n",
    "    if not pd.api.types.is_integer_dtype(df[col]):\n",
    "        non_numeric_columns.append((col, df[col].dtype))\n",
    "    if df[col].isnull().sum() > 0:\n",
    "        cols_w_missing_values.append(col)\n",
    "\n",
    "# Print result\n",
    "if len(non_numeric_columns) == 0:\n",
    "    print(\"All columns are int or float.\\n\")\n",
    "else:\n",
    "    print(\"There are columns that are not int:\")\n",
    "    for col, dtype in non_numeric_columns:\n",
    "        print(f\"Column: {col}, Type: {dtype}\")\n",
    "        \n",
    "        \n",
    "if len(cols_w_missing_values) == 0:\n",
    "    print(\"No columns have missing values.\")\n",
    "else:\n",
    "    print(\"Columns with missing values:\")\n",
    "    for col in cols_w_missing_values:\n",
    "        print(f\"Column: {col}\")"
   ],
   "outputs": [],
   "execution_count": null
  },
  {
   "metadata": {},
   "cell_type": "markdown",
   "source": [
    "## Data Analysis\n",
    "\n",
    "We will analyze the data to understand the relationships between the features and the target variable. We will also check for class imbalance and feature distributions.\n",
    "\n",
    "<br>\n",
    "\n",
    "### Correlation Analysis"
   ],
   "id": "d60b68543dc6233f"
  },
  {
   "cell_type": "code",
   "id": "ee3cd603d834a07c",
   "metadata": {},
   "source": [
    "utils.visualize_correlation(df)"
   ],
   "outputs": [],
   "execution_count": null
  },
  {
   "cell_type": "markdown",
   "id": "e8d747a2",
   "metadata": {},
   "source": [
    "Accuracy of the model **without removing** highly correlated features:\n",
    "- Holdout Accuracy: 94.664%\n",
    "- Cross-Validation Accuracy: 94.642%\n",
    "\n",
    "Join of Departure and Arrival Delay\n",
    "- Holdout Accuracy: 94.649%\n",
    "- Cross-Validation Accuracy: 94.675%\n",
    "\n",
    "<br>\n",
    "\n",
    "Accuracy of the model **removing** highly correlated features:\n",
    "\n",
    "- Holdout Accuracy: 94.256%\n",
    "- Cross-Validation Accuracy: 94.25%\n",
    "\n",
    "Join of Departure and Arrival Delay\n",
    "- Holdout Accuracy: 94.387%\n",
    "- Cross-Validation Accuracy: 94.171%\n"
   ]
  },
  {
   "cell_type": "markdown",
   "id": "47f8b5da",
   "metadata": {},
   "source": [
    "A remoção de informações correlacionadas pode ter prejudicado o modelo, eliminando dados importantes, mesmo que redundantes. Isso sugere que, neste caso, a redundância nas features era benéfica.\n",
    "\n",
    "A junção das duas features como Total Delay não causou um impacto significativo no desempenho geral, mas ajudou a simplificar o modelo sem sacrificar a performance."
   ]
  },
  {
   "metadata": {},
   "cell_type": "markdown",
   "source": "### Class Imbalance",
   "id": "7764fe30fc1a7b99"
  },
  {
   "cell_type": "code",
   "id": "a3b6d3b1988139aa",
   "metadata": {},
   "source": [
    "# Verify class imbalance of the Target\n",
    "\n",
    "utils.visualize_class_imbalance(df)"
   ],
   "outputs": [],
   "execution_count": null
  },
  {
   "cell_type": "markdown",
   "id": "b42263973f1cdf3",
   "metadata": {},
   "source": [
    "As we see there is an imbalance in the classes. We will SMOTE to balance the classes."
   ]
  },
  {
   "metadata": {},
   "cell_type": "markdown",
   "source": "### Feature distribution",
   "id": "9ea1dd62b758b6c1"
  },
  {
   "cell_type": "code",
   "id": "cf43b734c924c45c",
   "metadata": {},
   "source": [
    "utils.visualize_feature_distributions(df)"
   ],
   "outputs": [],
   "execution_count": null
  },
  {
   "metadata": {},
   "cell_type": "markdown",
   "source": [
    "## Simple Classifications\n",
    "\n",
    "We will start by using a glass box and a black box model to classify the data. We chose a Decision Tree and a Random Forest as the models, respectively. We will analyze the performance of the models and then apply XAI techniques to explain the predictions."
   ],
   "id": "e63e4acabb5826f3"
  },
  {
   "metadata": {},
   "cell_type": "code",
   "source": [
    "X = df.drop(columns=[\"Satisfaction\"])\n",
    "y = df[\"Satisfaction\"]"
   ],
   "id": "7f1961a24dcab49d",
   "outputs": [],
   "execution_count": null
  },
  {
   "metadata": {},
   "cell_type": "markdown",
   "source": [
    "\n",
    "### Decision Tree\n",
    "\n",
    "The decision tree is a glass box model that is easy to interpret. We will use it to classify the data and then apply XAI techniques to explain the predictions."
   ],
   "id": "a63478307c6f5252"
  },
  {
   "metadata": {},
   "cell_type": "code",
   "source": [
    "tree = DecisionTreeClassifier(random_state=42)\n",
    "\n",
    "accuracy = utils.holdout_accuracy(X,y, tree, test_size=0.2)\n",
    "cv_score = utils.cross_validation_acc(X,y, tree, cv_fold=10)\n",
    "\n",
    "print(f\"Holdout Accuracy: {accuracy}%\\nCross-Validation Accuracy: {cv_score}%\")"
   ],
   "id": "7f25cc7e8df6526b",
   "outputs": [],
   "execution_count": null
  },
  {
   "cell_type": "code",
   "id": "82cfc20bdc78a1a",
   "metadata": {},
   "source": "utils.analyze_tree_complexity(feature_names=X.columns.tolist(),tree=tree)",
   "outputs": [],
   "execution_count": null
  },
  {
   "metadata": {},
   "cell_type": "markdown",
   "source": [
    "### Random Forest\n",
    "\n",
    "The random forest is a black box model that is more complex than the decision tree. Like with the decision tree, we will classify the data and then apply XAI techniques to explain the predictions."
   ],
   "id": "40caf0deafcef3a1"
  },
  {
   "cell_type": "code",
   "id": "1799a7dcb4900447",
   "metadata": {},
   "source": [
    "forest = RandomForestClassifier(random_state=42)\n",
    "\n",
    "accuracy = utils.holdout_accuracy(X,y, tree, test_size=0.2)\n",
    "cv_score = utils.cross_validation_acc(X,y, tree, cv_fold=10)\n",
    "\n",
    "print(f\"Holdout Accuracy: {accuracy}%\\nCross-Validation Accuracy: {cv_score}%\")"
   ],
   "outputs": [],
   "execution_count": null
  },
  {
   "cell_type": "code",
   "id": "107cf245f30f1c90",
   "metadata": {},
   "source": "utils.apply_simplification_based_xai(X,y,forest)",
   "outputs": [],
   "execution_count": null
  },
  {
   "cell_type": "code",
   "id": "7f58c3e6c48274af",
   "metadata": {},
   "source": "utils.apply_feature_based_xai(X,y,forest)",
   "outputs": [],
   "execution_count": null
  },
  {
   "cell_type": "code",
   "id": "1a31bca07656967f",
   "metadata": {},
   "source": "utils.apply_simplification_based_xai(X,y,forest)",
   "outputs": [],
   "execution_count": null
  },
  {
   "cell_type": "code",
   "id": "edf1b823008f0c3d",
   "metadata": {},
   "source": [],
   "outputs": [],
   "execution_count": null
  }
 ],
 "metadata": {
  "kernelspec": {
   "display_name": "xai",
   "language": "python",
   "name": "python3"
  },
  "language_info": {
   "codemirror_mode": {
    "name": "ipython",
    "version": 3
   },
   "file_extension": ".py",
   "mimetype": "text/x-python",
   "name": "python",
   "nbconvert_exporter": "python",
   "pygments_lexer": "ipython3",
   "version": "3.12.7"
  }
 },
 "nbformat": 4,
 "nbformat_minor": 5
}
